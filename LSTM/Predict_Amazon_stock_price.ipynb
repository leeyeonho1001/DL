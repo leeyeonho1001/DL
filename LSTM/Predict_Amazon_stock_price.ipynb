{
  "nbformat": 4,
  "nbformat_minor": 0,
  "metadata": {
    "colab": {
      "provenance": [],
      "authorship_tag": "ABX9TyOfKNzvgI6aZGqJXF4FbfPM",
      "include_colab_link": true
    },
    "kernelspec": {
      "name": "python3",
      "display_name": "Python 3"
    },
    "language_info": {
      "name": "python"
    }
  },
  "cells": [
    {
      "cell_type": "markdown",
      "metadata": {
        "id": "view-in-github",
        "colab_type": "text"
      },
      "source": [
        "<a href=\"https://colab.research.google.com/github/leeyeonho1001/DL/blob/main/Predict_Amazon_stock_price.ipynb\" target=\"_parent\"><img src=\"https://colab.research.google.com/assets/colab-badge.svg\" alt=\"Open In Colab\"/></a>"
      ]
    },
    {
      "cell_type": "code",
      "source": [
        "import numpy as np\n",
        "import matplotlib.pyplot as plt\n",
        "import pandas as pd\n",
        "from sklearn.preprocessing import MinMaxScaler\n",
        "from keras.models import Sequential\n",
        "from keras.layers import Dense, LSTM, Dropout, GRU, Bidirectional\n",
        "from keras.optimizers import SGD\n",
        "import math\n",
        "from sklearn.metrics import mean_squared_error"
      ],
      "metadata": {
        "id": "IaJEIsoJn1gO"
      },
      "execution_count": null,
      "outputs": []
    },
    {
      "cell_type": "code",
      "source": [
        "# 데이터셋 불러오기\n",
        "dataset = pd.read_csv('AMZN (1).csv', index_col = 'Date')\n",
        "dataset.head()"
      ],
      "metadata": {
        "colab": {
          "base_uri": "https://localhost:8080/",
          "height": 237
        },
        "id": "KjzDscGNn-Lw",
        "outputId": "ab2f358a-6f86-4ac6-c44a-9cab4a4debca"
      },
      "execution_count": null,
      "outputs": [
        {
          "output_type": "execute_result",
          "data": {
            "text/plain": [
              "              Open    High    Low   Close  Adj Close     Volume\n",
              "Date                                                           \n",
              "2010-01-20  6.3565  6.4600  6.254  6.2890     6.2890  181494000\n",
              "2010-01-21  6.3630  6.4075  6.250  6.3310     6.3310  199412000\n",
              "2010-01-22  6.2800  6.3835  6.038  6.0715     6.0715  231378000\n",
              "2010-01-25  6.1050  6.1140  5.906  6.0155     6.0155  240478000\n",
              "2010-01-26  6.0280  6.1490  5.953  5.9740     5.9740  191180000"
            ],
            "text/html": [
              "\n",
              "  <div id=\"df-02b2d304-4373-4e13-b8bb-cd981d6ad3d3\" class=\"colab-df-container\">\n",
              "    <div>\n",
              "<style scoped>\n",
              "    .dataframe tbody tr th:only-of-type {\n",
              "        vertical-align: middle;\n",
              "    }\n",
              "\n",
              "    .dataframe tbody tr th {\n",
              "        vertical-align: top;\n",
              "    }\n",
              "\n",
              "    .dataframe thead th {\n",
              "        text-align: right;\n",
              "    }\n",
              "</style>\n",
              "<table border=\"1\" class=\"dataframe\">\n",
              "  <thead>\n",
              "    <tr style=\"text-align: right;\">\n",
              "      <th></th>\n",
              "      <th>Open</th>\n",
              "      <th>High</th>\n",
              "      <th>Low</th>\n",
              "      <th>Close</th>\n",
              "      <th>Adj Close</th>\n",
              "      <th>Volume</th>\n",
              "    </tr>\n",
              "    <tr>\n",
              "      <th>Date</th>\n",
              "      <th></th>\n",
              "      <th></th>\n",
              "      <th></th>\n",
              "      <th></th>\n",
              "      <th></th>\n",
              "      <th></th>\n",
              "    </tr>\n",
              "  </thead>\n",
              "  <tbody>\n",
              "    <tr>\n",
              "      <th>2010-01-20</th>\n",
              "      <td>6.3565</td>\n",
              "      <td>6.4600</td>\n",
              "      <td>6.254</td>\n",
              "      <td>6.2890</td>\n",
              "      <td>6.2890</td>\n",
              "      <td>181494000</td>\n",
              "    </tr>\n",
              "    <tr>\n",
              "      <th>2010-01-21</th>\n",
              "      <td>6.3630</td>\n",
              "      <td>6.4075</td>\n",
              "      <td>6.250</td>\n",
              "      <td>6.3310</td>\n",
              "      <td>6.3310</td>\n",
              "      <td>199412000</td>\n",
              "    </tr>\n",
              "    <tr>\n",
              "      <th>2010-01-22</th>\n",
              "      <td>6.2800</td>\n",
              "      <td>6.3835</td>\n",
              "      <td>6.038</td>\n",
              "      <td>6.0715</td>\n",
              "      <td>6.0715</td>\n",
              "      <td>231378000</td>\n",
              "    </tr>\n",
              "    <tr>\n",
              "      <th>2010-01-25</th>\n",
              "      <td>6.1050</td>\n",
              "      <td>6.1140</td>\n",
              "      <td>5.906</td>\n",
              "      <td>6.0155</td>\n",
              "      <td>6.0155</td>\n",
              "      <td>240478000</td>\n",
              "    </tr>\n",
              "    <tr>\n",
              "      <th>2010-01-26</th>\n",
              "      <td>6.0280</td>\n",
              "      <td>6.1490</td>\n",
              "      <td>5.953</td>\n",
              "      <td>5.9740</td>\n",
              "      <td>5.9740</td>\n",
              "      <td>191180000</td>\n",
              "    </tr>\n",
              "  </tbody>\n",
              "</table>\n",
              "</div>\n",
              "    <div class=\"colab-df-buttons\">\n",
              "\n",
              "  <div class=\"colab-df-container\">\n",
              "    <button class=\"colab-df-convert\" onclick=\"convertToInteractive('df-02b2d304-4373-4e13-b8bb-cd981d6ad3d3')\"\n",
              "            title=\"Convert this dataframe to an interactive table.\"\n",
              "            style=\"display:none;\">\n",
              "\n",
              "  <svg xmlns=\"http://www.w3.org/2000/svg\" height=\"24px\" viewBox=\"0 -960 960 960\">\n",
              "    <path d=\"M120-120v-720h720v720H120Zm60-500h600v-160H180v160Zm220 220h160v-160H400v160Zm0 220h160v-160H400v160ZM180-400h160v-160H180v160Zm440 0h160v-160H620v160ZM180-180h160v-160H180v160Zm440 0h160v-160H620v160Z\"/>\n",
              "  </svg>\n",
              "    </button>\n",
              "\n",
              "  <style>\n",
              "    .colab-df-container {\n",
              "      display:flex;\n",
              "      gap: 12px;\n",
              "    }\n",
              "\n",
              "    .colab-df-convert {\n",
              "      background-color: #E8F0FE;\n",
              "      border: none;\n",
              "      border-radius: 50%;\n",
              "      cursor: pointer;\n",
              "      display: none;\n",
              "      fill: #1967D2;\n",
              "      height: 32px;\n",
              "      padding: 0 0 0 0;\n",
              "      width: 32px;\n",
              "    }\n",
              "\n",
              "    .colab-df-convert:hover {\n",
              "      background-color: #E2EBFA;\n",
              "      box-shadow: 0px 1px 2px rgba(60, 64, 67, 0.3), 0px 1px 3px 1px rgba(60, 64, 67, 0.15);\n",
              "      fill: #174EA6;\n",
              "    }\n",
              "\n",
              "    .colab-df-buttons div {\n",
              "      margin-bottom: 4px;\n",
              "    }\n",
              "\n",
              "    [theme=dark] .colab-df-convert {\n",
              "      background-color: #3B4455;\n",
              "      fill: #D2E3FC;\n",
              "    }\n",
              "\n",
              "    [theme=dark] .colab-df-convert:hover {\n",
              "      background-color: #434B5C;\n",
              "      box-shadow: 0px 1px 3px 1px rgba(0, 0, 0, 0.15);\n",
              "      filter: drop-shadow(0px 1px 2px rgba(0, 0, 0, 0.3));\n",
              "      fill: #FFFFFF;\n",
              "    }\n",
              "  </style>\n",
              "\n",
              "    <script>\n",
              "      const buttonEl =\n",
              "        document.querySelector('#df-02b2d304-4373-4e13-b8bb-cd981d6ad3d3 button.colab-df-convert');\n",
              "      buttonEl.style.display =\n",
              "        google.colab.kernel.accessAllowed ? 'block' : 'none';\n",
              "\n",
              "      async function convertToInteractive(key) {\n",
              "        const element = document.querySelector('#df-02b2d304-4373-4e13-b8bb-cd981d6ad3d3');\n",
              "        const dataTable =\n",
              "          await google.colab.kernel.invokeFunction('convertToInteractive',\n",
              "                                                    [key], {});\n",
              "        if (!dataTable) return;\n",
              "\n",
              "        const docLinkHtml = 'Like what you see? Visit the ' +\n",
              "          '<a target=\"_blank\" href=https://colab.research.google.com/notebooks/data_table.ipynb>data table notebook</a>'\n",
              "          + ' to learn more about interactive tables.';\n",
              "        element.innerHTML = '';\n",
              "        dataTable['output_type'] = 'display_data';\n",
              "        await google.colab.output.renderOutput(dataTable, element);\n",
              "        const docLink = document.createElement('div');\n",
              "        docLink.innerHTML = docLinkHtml;\n",
              "        element.appendChild(docLink);\n",
              "      }\n",
              "    </script>\n",
              "  </div>\n",
              "\n",
              "\n",
              "<div id=\"df-0b70c2a2-5930-4e1a-bd30-923869f7d304\">\n",
              "  <button class=\"colab-df-quickchart\" onclick=\"quickchart('df-0b70c2a2-5930-4e1a-bd30-923869f7d304')\"\n",
              "            title=\"Suggest charts\"\n",
              "            style=\"display:none;\">\n",
              "\n",
              "<svg xmlns=\"http://www.w3.org/2000/svg\" height=\"24px\"viewBox=\"0 0 24 24\"\n",
              "     width=\"24px\">\n",
              "    <g>\n",
              "        <path d=\"M19 3H5c-1.1 0-2 .9-2 2v14c0 1.1.9 2 2 2h14c1.1 0 2-.9 2-2V5c0-1.1-.9-2-2-2zM9 17H7v-7h2v7zm4 0h-2V7h2v10zm4 0h-2v-4h2v4z\"/>\n",
              "    </g>\n",
              "</svg>\n",
              "  </button>\n",
              "\n",
              "<style>\n",
              "  .colab-df-quickchart {\n",
              "      --bg-color: #E8F0FE;\n",
              "      --fill-color: #1967D2;\n",
              "      --hover-bg-color: #E2EBFA;\n",
              "      --hover-fill-color: #174EA6;\n",
              "      --disabled-fill-color: #AAA;\n",
              "      --disabled-bg-color: #DDD;\n",
              "  }\n",
              "\n",
              "  [theme=dark] .colab-df-quickchart {\n",
              "      --bg-color: #3B4455;\n",
              "      --fill-color: #D2E3FC;\n",
              "      --hover-bg-color: #434B5C;\n",
              "      --hover-fill-color: #FFFFFF;\n",
              "      --disabled-bg-color: #3B4455;\n",
              "      --disabled-fill-color: #666;\n",
              "  }\n",
              "\n",
              "  .colab-df-quickchart {\n",
              "    background-color: var(--bg-color);\n",
              "    border: none;\n",
              "    border-radius: 50%;\n",
              "    cursor: pointer;\n",
              "    display: none;\n",
              "    fill: var(--fill-color);\n",
              "    height: 32px;\n",
              "    padding: 0;\n",
              "    width: 32px;\n",
              "  }\n",
              "\n",
              "  .colab-df-quickchart:hover {\n",
              "    background-color: var(--hover-bg-color);\n",
              "    box-shadow: 0 1px 2px rgba(60, 64, 67, 0.3), 0 1px 3px 1px rgba(60, 64, 67, 0.15);\n",
              "    fill: var(--button-hover-fill-color);\n",
              "  }\n",
              "\n",
              "  .colab-df-quickchart-complete:disabled,\n",
              "  .colab-df-quickchart-complete:disabled:hover {\n",
              "    background-color: var(--disabled-bg-color);\n",
              "    fill: var(--disabled-fill-color);\n",
              "    box-shadow: none;\n",
              "  }\n",
              "\n",
              "  .colab-df-spinner {\n",
              "    border: 2px solid var(--fill-color);\n",
              "    border-color: transparent;\n",
              "    border-bottom-color: var(--fill-color);\n",
              "    animation:\n",
              "      spin 1s steps(1) infinite;\n",
              "  }\n",
              "\n",
              "  @keyframes spin {\n",
              "    0% {\n",
              "      border-color: transparent;\n",
              "      border-bottom-color: var(--fill-color);\n",
              "      border-left-color: var(--fill-color);\n",
              "    }\n",
              "    20% {\n",
              "      border-color: transparent;\n",
              "      border-left-color: var(--fill-color);\n",
              "      border-top-color: var(--fill-color);\n",
              "    }\n",
              "    30% {\n",
              "      border-color: transparent;\n",
              "      border-left-color: var(--fill-color);\n",
              "      border-top-color: var(--fill-color);\n",
              "      border-right-color: var(--fill-color);\n",
              "    }\n",
              "    40% {\n",
              "      border-color: transparent;\n",
              "      border-right-color: var(--fill-color);\n",
              "      border-top-color: var(--fill-color);\n",
              "    }\n",
              "    60% {\n",
              "      border-color: transparent;\n",
              "      border-right-color: var(--fill-color);\n",
              "    }\n",
              "    80% {\n",
              "      border-color: transparent;\n",
              "      border-right-color: var(--fill-color);\n",
              "      border-bottom-color: var(--fill-color);\n",
              "    }\n",
              "    90% {\n",
              "      border-color: transparent;\n",
              "      border-bottom-color: var(--fill-color);\n",
              "    }\n",
              "  }\n",
              "</style>\n",
              "\n",
              "  <script>\n",
              "    async function quickchart(key) {\n",
              "      const quickchartButtonEl =\n",
              "        document.querySelector('#' + key + ' button');\n",
              "      quickchartButtonEl.disabled = true;  // To prevent multiple clicks.\n",
              "      quickchartButtonEl.classList.add('colab-df-spinner');\n",
              "      try {\n",
              "        const charts = await google.colab.kernel.invokeFunction(\n",
              "            'suggestCharts', [key], {});\n",
              "      } catch (error) {\n",
              "        console.error('Error during call to suggestCharts:', error);\n",
              "      }\n",
              "      quickchartButtonEl.classList.remove('colab-df-spinner');\n",
              "      quickchartButtonEl.classList.add('colab-df-quickchart-complete');\n",
              "    }\n",
              "    (() => {\n",
              "      let quickchartButtonEl =\n",
              "        document.querySelector('#df-0b70c2a2-5930-4e1a-bd30-923869f7d304 button');\n",
              "      quickchartButtonEl.style.display =\n",
              "        google.colab.kernel.accessAllowed ? 'block' : 'none';\n",
              "    })();\n",
              "  </script>\n",
              "</div>\n",
              "\n",
              "    </div>\n",
              "  </div>\n"
            ]
          },
          "metadata": {},
          "execution_count": 4
        }
      ]
    },
    {
      "cell_type": "code",
      "source": [
        "# train_set, test_set 나누기\n",
        "training_set = dataset[:'2022'].iloc[:,4:5].values\n",
        "test_set = dataset['2023':].iloc[:,4:5].values\n",
        "\n",
        "print(len(training_set))\n",
        "print(len(test_set))"
      ],
      "metadata": {
        "colab": {
          "base_uri": "https://localhost:8080/"
        },
        "id": "kwkxmWdvoRt_",
        "outputId": "65b5f2d0-e1b0-4581-f5fc-f74bf04c0451"
      },
      "execution_count": null,
      "outputs": [
        {
          "output_type": "stream",
          "name": "stdout",
          "text": [
            "3010\n",
            "263\n"
          ]
        }
      ]
    },
    {
      "cell_type": "code",
      "source": [
        "# MinMaxScaler로 training_set_scaled 정의\n",
        "sc = MinMaxScaler(feature_range = (0,1))\n",
        "training_set_scaled = sc.fit_transform(training_set)"
      ],
      "metadata": {
        "id": "62ECLp0Epwtk"
      },
      "execution_count": null,
      "outputs": []
    },
    {
      "cell_type": "code",
      "source": [
        "# training_set 정규화\n",
        "X_train = []\n",
        "y_train = []\n",
        "\n",
        "for i in range(60, len(training_set)):\n",
        "  X_train.append(training_set_scaled[i-60:i,0])\n",
        "  y_train.append(training_set_scaled[i,0])\n",
        "X_train, y_train = np.array(X_train), np.array(y_train)"
      ],
      "metadata": {
        "id": "xFq91Ao4p6G5"
      },
      "execution_count": null,
      "outputs": []
    },
    {
      "cell_type": "code",
      "source": [
        "X_train = np.reshape(X_train,(X_train.shape[0], X_train.shape[1],1))"
      ],
      "metadata": {
        "id": "dU8ZxCh-sDv8"
      },
      "execution_count": null,
      "outputs": []
    },
    {
      "cell_type": "code",
      "source": [
        "# LSTM 모델 생성\n",
        "regressor = Sequential()\n",
        "# First layer\n",
        "regressor.add(LSTM(units = 50, return_sequences = True, input_shape = (X_train.shape[1],1)))\n",
        "regressor.add(Dropout(0.2))\n",
        "# Second layer\n",
        "regressor.add(LSTM(units = 50, return_sequences = True))\n",
        "regressor.add(Dropout(0.2))\n",
        "# Third layer\n",
        "regressor.add(LSTM(units = 50, return_sequences = True))\n",
        "regressor.add(Dropout(0.2))\n",
        "# Fourth layer\n",
        "regressor.add(LSTM(units = 50))\n",
        "regressor.add(Dropout(0.2))\n",
        "# Output layer\n",
        "regressor.add(Dense(units = 1))\n",
        "# 모델 컴파일링 및 훈련\n",
        "regressor.compile(optimizer = 'rmsprop', loss = 'mean_squared_error')\n",
        "regressor.fit(X_train, y_train, epochs = 40, batch_size = 32)"
      ],
      "metadata": {
        "colab": {
          "base_uri": "https://localhost:8080/"
        },
        "id": "vQvhR17-sMpw",
        "outputId": "7c41eb90-1037-4a44-e85b-669ff538bc2a"
      },
      "execution_count": null,
      "outputs": [
        {
          "output_type": "stream",
          "name": "stdout",
          "text": [
            "Epoch 1/40\n",
            "93/93 [==============================] - 21s 117ms/step - loss: 0.0098\n",
            "Epoch 2/40\n",
            "93/93 [==============================] - 13s 145ms/step - loss: 0.0044\n",
            "Epoch 3/40\n",
            "93/93 [==============================] - 12s 134ms/step - loss: 0.0036\n",
            "Epoch 4/40\n",
            "93/93 [==============================] - 19s 201ms/step - loss: 0.0032\n",
            "Epoch 5/40\n",
            "93/93 [==============================] - 24s 253ms/step - loss: 0.0030\n",
            "Epoch 6/40\n",
            "93/93 [==============================] - 19s 207ms/step - loss: 0.0025\n",
            "Epoch 7/40\n",
            "93/93 [==============================] - 25s 264ms/step - loss: 0.0025\n",
            "Epoch 8/40\n",
            "93/93 [==============================] - 21s 229ms/step - loss: 0.0023\n",
            "Epoch 9/40\n",
            "93/93 [==============================] - 20s 215ms/step - loss: 0.0022\n",
            "Epoch 10/40\n",
            "93/93 [==============================] - 18s 197ms/step - loss: 0.0022\n",
            "Epoch 11/40\n",
            "93/93 [==============================] - 22s 233ms/step - loss: 0.0022\n",
            "Epoch 12/40\n",
            "93/93 [==============================] - 21s 223ms/step - loss: 0.0018\n",
            "Epoch 13/40\n",
            "93/93 [==============================] - 22s 235ms/step - loss: 0.0018\n",
            "Epoch 14/40\n",
            "93/93 [==============================] - 21s 226ms/step - loss: 0.0016\n",
            "Epoch 15/40\n",
            "93/93 [==============================] - 16s 173ms/step - loss: 0.0019\n",
            "Epoch 16/40\n",
            "93/93 [==============================] - 22s 233ms/step - loss: 0.0017\n",
            "Epoch 17/40\n",
            "93/93 [==============================] - 16s 168ms/step - loss: 0.0017\n",
            "Epoch 18/40\n",
            "93/93 [==============================] - 17s 187ms/step - loss: 0.0017\n",
            "Epoch 19/40\n",
            "93/93 [==============================] - 16s 168ms/step - loss: 0.0017\n",
            "Epoch 20/40\n",
            "93/93 [==============================] - 18s 197ms/step - loss: 0.0015\n",
            "Epoch 21/40\n",
            "93/93 [==============================] - 19s 206ms/step - loss: 0.0017\n",
            "Epoch 22/40\n",
            "93/93 [==============================] - 19s 205ms/step - loss: 0.0015\n",
            "Epoch 23/40\n",
            "93/93 [==============================] - 22s 234ms/step - loss: 0.0015\n",
            "Epoch 24/40\n",
            "93/93 [==============================] - 17s 188ms/step - loss: 0.0016\n",
            "Epoch 25/40\n",
            "93/93 [==============================] - 18s 198ms/step - loss: 0.0014\n",
            "Epoch 26/40\n",
            "93/93 [==============================] - 19s 202ms/step - loss: 0.0014\n",
            "Epoch 27/40\n",
            "93/93 [==============================] - 18s 192ms/step - loss: 0.0015\n",
            "Epoch 28/40\n",
            "93/93 [==============================] - 16s 167ms/step - loss: 0.0014\n",
            "Epoch 29/40\n",
            "93/93 [==============================] - 13s 143ms/step - loss: 0.0016\n",
            "Epoch 30/40\n",
            "93/93 [==============================] - 12s 129ms/step - loss: 0.0014\n",
            "Epoch 31/40\n",
            "93/93 [==============================] - 12s 126ms/step - loss: 0.0014\n",
            "Epoch 32/40\n",
            "93/93 [==============================] - 13s 141ms/step - loss: 0.0014\n",
            "Epoch 33/40\n",
            "93/93 [==============================] - 11s 116ms/step - loss: 0.0013\n",
            "Epoch 34/40\n",
            "93/93 [==============================] - 12s 128ms/step - loss: 0.0013\n",
            "Epoch 35/40\n",
            "93/93 [==============================] - 12s 128ms/step - loss: 0.0013\n",
            "Epoch 36/40\n",
            "93/93 [==============================] - 12s 128ms/step - loss: 0.0013\n",
            "Epoch 37/40\n",
            "93/93 [==============================] - 12s 129ms/step - loss: 0.0012\n",
            "Epoch 38/40\n",
            "93/93 [==============================] - 13s 142ms/step - loss: 0.0013\n",
            "Epoch 39/40\n",
            "93/93 [==============================] - 12s 125ms/step - loss: 0.0013\n",
            "Epoch 40/40\n",
            "93/93 [==============================] - 11s 117ms/step - loss: 0.0012\n"
          ]
        },
        {
          "output_type": "execute_result",
          "data": {
            "text/plain": [
              "<keras.src.callbacks.History at 0x7afe75a6b160>"
            ]
          },
          "metadata": {},
          "execution_count": 17
        }
      ]
    },
    {
      "cell_type": "code",
      "source": [
        "# test_set의 입력 데이터 inputs 정의\n",
        "target = dataset['Adj Close']\n",
        "inputs = target[len(target)-len(test_set)-60:].values\n",
        "inputs = inputs.reshape(-1,1)\n",
        "inputs = sc.transform(inputs)"
      ],
      "metadata": {
        "id": "d7frwtk1tbA3"
      },
      "execution_count": null,
      "outputs": []
    },
    {
      "cell_type": "code",
      "source": [
        "# test_set 정규화 후 예측\n",
        "X_test = []\n",
        "for i in range(60, len(test_set)+ 60):\n",
        "  X_test.append(inputs[i-60:i,0])\n",
        "X_test = np.array(X_test)\n",
        "X_test = np.reshape(X_test, (X_test.shape[0],X_test.shape[1],1))\n",
        "\n",
        "predicted = regressor.predict(X_test)\n",
        "predicted = sc.inverse_transform(predicted)"
      ],
      "metadata": {
        "colab": {
          "base_uri": "https://localhost:8080/"
        },
        "id": "rlX-ORP4t-v7",
        "outputId": "bf339122-35d6-45ba-84bb-1bb5ab754fac"
      },
      "execution_count": null,
      "outputs": [
        {
          "output_type": "stream",
          "name": "stdout",
          "text": [
            "9/9 [==============================] - 3s 46ms/step\n"
          ]
        }
      ]
    },
    {
      "cell_type": "code",
      "source": [
        "# 실제 값과 예측 값 그래프 시각화\n",
        "def plot_prediction(test, predicted):\n",
        "  plt.plot(test, color = 'red', label = 'Real AMAZON Stock Price')\n",
        "  plt.plot(predicted, color = 'blue', label = 'Predicted AMAZON Stock Price')\n",
        "  plt.title('AMAZON Stock Price Prediction')\n",
        "  plt.xlabel('Time')\n",
        "  plt.ylabel('AMAZON Stock Price')\n",
        "  plt.legend()\n",
        "  plt.show\n",
        "\n",
        "plot_prediction(test_set, predicted)"
      ],
      "metadata": {
        "colab": {
          "base_uri": "https://localhost:8080/",
          "height": 472
        },
        "id": "DWQrQjGvtL4i",
        "outputId": "17cc58a0-8b61-4b9f-c978-883aaa20b7a4"
      },
      "execution_count": null,
      "outputs": [
        {
          "output_type": "display_data",
          "data": {
            "text/plain": [
              "<Figure size 640x480 with 1 Axes>"
            ],
            "image/png": "[encoded data removed]"
          },
          "metadata": {}
        }
      ]
    },
    {
      "cell_type": "code",
      "source": [
        "# 모델의 rmse 구하기\n",
        "def return_mse(test, predicted):\n",
        "  rmse = math.sqrt(mean_squared_error(test, predicted))\n",
        "  print('The root mean squared error is {}.'.format(rmse))\n",
        "\n",
        "return_mse(test_set, predicted)"
      ],
      "metadata": {
        "colab": {
          "base_uri": "https://localhost:8080/"
        },
        "id": "o8Qy-7gPvFAk",
        "outputId": "921b4135-8a31-4521-b14f-876571db8a81"
      },
      "execution_count": null,
      "outputs": [
        {
          "output_type": "stream",
          "name": "stdout",
          "text": [
            "The root mean squared error is 5.037228190622944.\n"
          ]
        }
      ]
    }
  ]
}
